{
 "cells": [
  {
   "cell_type": "code",
   "execution_count": null,
   "metadata": {},
   "outputs": [],
   "source": [
    "from bs4 import BeautifulSoup\n",
    "from lxml import html\n",
    "import xml\n",
    "import requests\n",
    "import time\n",
    "\n",
    "#url = \"https://sjz.lianjia.com/ershoufang/hy1f2f5sf1l3l2l4a2a3a4/\"\n",
    "def get_info(i):\n",
    "   #i represents ith page of the information\n",
    "   url=\"https://www.okooo.com/soccer/league/17/schedule/14243/1-1-{0}/\".format(str(i))\n",
    "   f = requests.get(url,headers={'user-agent':'Mozilla/5.0 (Windows NT 10.0; Win64; x64) AppleWebKit/537.36 (KHTML, like Gecko) Chrome/91.0.4472.77 Safari/537.36',\n",
    "                                 })\n",
    "\n",
    "\n",
    "   soup = BeautifulSoup(f.content, \"lxml\")  #用lxml解析器解析该网页的内容, 好像f.text也是返回的html\n",
    "   print(soup)\n",
    "   #print(f.content.decode())\t\t\t\t\t\t\t\t#尝试打印出网页内容,看是否获取成功\n",
    "   content = soup.find_all('div',class_=\"clearfix tableborder\" )   #尝试获取节点，因为calss和关键字冲突，所以改名class_\n",
    "   #print(content)\n",
    "   fo=open(\"D:/澳客网/testtext{0}.txt\".format(str(i)),'w',encoding='utf-8')\n",
    "   for content_div in content:\n",
    "      ha=content_div.find_all('tr')\n",
    "      #print(ha)\n",
    "      for h in ha:\n",
    "         #print(h.find_all('td'))\n",
    "         #print(h.get_text())\n",
    "         fo.writelines(h.get_text())\n",
    "         #print(h)\n",
    "         #print(type(h))\n",
    "         #temp=str(h)\n",
    "         #item=temp.find('target')\n",
    "         #print(temp[item:])\n",
    "\n",
    "get_info(1)\n",
    "\n",
    "#print(housename)\n",
    "\n",
    "#for k in soup.find_all('div',class_='pl2'):#,找到div并且class为pl2的标签\n",
    " #  a = k.find_all('span')       #在每个对应div标签下找span标签，会发现，一个a里面有四组span\n",
    " #  print(a[0].string)            #取第一组的span中的字符串\n"
   ]
  }
 ],
 "metadata": {
  "kernelspec": {
   "display_name": "Python 3",
   "language": "python",
   "name": "python3"
  },
  "language_info": {
   "codemirror_mode": {
    "name": "ipython",
    "version": 3
   },
   "file_extension": ".py",
   "mimetype": "text/x-python",
   "name": "python",
   "nbconvert_exporter": "python",
   "pygments_lexer": "ipython3",
   "version": "3.8.5"
  }
 },
 "nbformat": 4,
 "nbformat_minor": 4
}
