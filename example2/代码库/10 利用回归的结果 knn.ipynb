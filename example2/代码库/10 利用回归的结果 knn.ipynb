{
 "cells": [
  {
   "cell_type": "code",
   "execution_count": 2,
   "metadata": {},
   "outputs": [],
   "source": [
    "a=[ 0.00077575,-0.00745624,0.00244002]"
   ]
  },
  {
   "cell_type": "code",
   "execution_count": null,
   "metadata": {},
   "outputs": [],
   "source": [
    "from sklearn import datasets\n",
    "import numpy as np\n",
    "import pandas as pd\n",
    "from sklearn.model_selection import KFold"
   ]
  },
  {
   "cell_type": "code",
   "execution_count": null,
   "metadata": {},
   "outputs": [],
   "source": [
    "pd.set_option('display.max_columns',None)\n",
    "pd.set_option('display.max_rows', None)\n",
    "data=datasets.load_wine()\n",
    "wine=pd.DataFrame(data.data)\n",
    "wine=wine.sub(wine.mean(),axis=1).div(wine.std(),axis=1)\n",
    "target=data.target\n",
    "wine['target']=target\n",
    "test_index=[2,17,21,30,68,77,81,89,98,111,121,126,144,145,158,160,172,176]\n",
    "train_index=list(set(wine.index)-set(test_index))\n",
    "test=wine.iloc[test_index].reset_index(drop=True)\n",
    "train=wine.iloc[train_index].reset_index(drop=True)"
   ]
  },
  {
   "cell_type": "code",
   "execution_count": null,
   "metadata": {},
   "outputs": [],
   "source": [
    "def acc(test, predict):\n",
    "    return sum(test == predict) / test.size\n",
    "def knn(train,test,k):\n",
    "    predict=[]\n",
    "    for te in np.array(test):\n",
    "        sub=train.iloc[:,:-1].sub(te[:-1])\n",
    "        d=np.sqrt((sub**2).sum(axis=1))\n",
    "        d_index=d.sort_values(ascending=True).index[:k]\n",
    "        pred=train['target'].iloc[d_index].value_counts().index[0]\n",
    "        predict.append(pred)\n",
    "    return predict"
   ]
  },
  {
   "cell_type": "code",
   "execution_count": null,
   "metadata": {},
   "outputs": [],
   "source": [
    "#1)对训练集 10 折交叉验证的结果\n",
    "x=[1,3,5,7,9]\n",
    "kf = KFold(n_splits=10,shuffle=True)\n",
    "maxacc=0\n",
    "for k in x:\n",
    "    accuracy=0\n",
    "    for train_index, test_index in kf.split(train):\n",
    "        tra=train.iloc[train_index].reset_index(drop=True)\n",
    "        validation=train.iloc[test_index].reset_index(drop=True)\n",
    "        predict=knn(tra,validation,k)\n",
    "        accuracy+=acc(validation['target'],predict)\n",
    "        accuracy/=10\n",
    "    print('k=%d:'%k,accuracy)"
   ]
  },
  {
   "cell_type": "code",
   "execution_count": null,
   "metadata": {},
   "outputs": [],
   "source": [
    "# 基于整个训练集对测试集样本进行预测并计算 accuracy\n",
    "for kk in x:\n",
    "    predict=knn(train,test,kk)\n",
    "    print('k=%d:'%kk, acc(test['target'],predict))"
   ]
  }
 ],
 "metadata": {
  "kernelspec": {
   "display_name": "Python 3",
   "language": "python",
   "name": "python3"
  },
  "language_info": {
   "codemirror_mode": {
    "name": "ipython",
    "version": 3
   },
   "file_extension": ".py",
   "mimetype": "text/x-python",
   "name": "python",
   "nbconvert_exporter": "python",
   "pygments_lexer": "ipython3",
   "version": "3.8.5"
  }
 },
 "nbformat": 4,
 "nbformat_minor": 4
}
