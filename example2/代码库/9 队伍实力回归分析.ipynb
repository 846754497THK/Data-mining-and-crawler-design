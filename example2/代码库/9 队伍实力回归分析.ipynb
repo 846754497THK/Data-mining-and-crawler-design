{
 "cells": [
  {
   "cell_type": "code",
   "execution_count": 40,
   "metadata": {},
   "outputs": [],
   "source": [
    "import pandas as pd\n",
    "import numpy as np\n",
    "import matplotlib.pyplot as plt\n",
    "from pandas import DataFrame,Series\n",
    "from sklearn.linear_model import LinearRegression"
   ]
  },
  {
   "cell_type": "code",
   "execution_count": 41,
   "metadata": {
    "scrolled": true
   },
   "outputs": [],
   "source": [
    "adv_data = pd.read_excel(\"re.xlsx\")"
   ]
  },
  {
   "cell_type": "code",
   "execution_count": 42,
   "metadata": {},
   "outputs": [
    {
     "name": "stdout",
     "output_type": "stream",
     "text": [
      "head:      身价  平均年龄  平均身高     score\n",
      "0  4110    27   181  3.523036\n",
      "1  2944    28   181  2.046407\n",
      "2  2631    27   186  1.900293\n",
      "3  2601    27   183  1.721571\n",
      "4  2303    28   184  1.559659 \n",
      "Shape: (20, 4)\n"
     ]
    }
   ],
   "source": [
    "print('head:',adv_data.head(),'\\nShape:',adv_data.shape)"
   ]
  },
  {
   "cell_type": "code",
   "execution_count": 43,
   "metadata": {},
   "outputs": [
    {
     "name": "stdout",
     "output_type": "stream",
     "text": [
      "                身价       平均年龄        平均身高      score\n",
      "count    20.000000  20.000000   20.000000  20.000000\n",
      "mean   1521.950000  27.700000  182.850000   1.202593\n",
      "std     999.080444   1.080935    1.631112   0.769690\n",
      "min     393.000000  26.000000  180.000000   0.345839\n",
      "25%     737.500000  27.000000  181.750000   0.591756\n",
      "50%    1351.500000  27.500000  183.000000   1.097006\n",
      "75%    2078.000000  28.000000  184.000000   1.600137\n",
      "max    4110.000000  31.000000  186.000000   3.523036\n",
      "身价       0\n",
      "平均年龄     0\n",
      "平均身高     0\n",
      "score    0\n",
      "dtype: int64\n"
     ]
    }
   ],
   "source": [
    "#数据描述\n",
    "print(adv_data.describe())\n",
    "#缺失值检验\n",
    "print(adv_data[adv_data.isnull()==True].count())"
   ]
  },
  {
   "cell_type": "code",
   "execution_count": 44,
   "metadata": {},
   "outputs": [],
   "source": [
    "import matplotlib.pyplot as plt"
   ]
  },
  {
   "cell_type": "code",
   "execution_count": 45,
   "metadata": {},
   "outputs": [
    {
     "data": {
      "text/html": [
       "<div>\n",
       "<style scoped>\n",
       "    .dataframe tbody tr th:only-of-type {\n",
       "        vertical-align: middle;\n",
       "    }\n",
       "\n",
       "    .dataframe tbody tr th {\n",
       "        vertical-align: top;\n",
       "    }\n",
       "\n",
       "    .dataframe thead th {\n",
       "        text-align: right;\n",
       "    }\n",
       "</style>\n",
       "<table border=\"1\" class=\"dataframe\">\n",
       "  <thead>\n",
       "    <tr style=\"text-align: right;\">\n",
       "      <th></th>\n",
       "      <th>身价</th>\n",
       "      <th>平均年龄</th>\n",
       "      <th>平均身高</th>\n",
       "      <th>score</th>\n",
       "      <th>身价_n</th>\n",
       "      <th>平均年龄_n</th>\n",
       "      <th>平均身高_n</th>\n",
       "    </tr>\n",
       "  </thead>\n",
       "  <tbody>\n",
       "    <tr>\n",
       "      <th>0</th>\n",
       "      <td>4110</td>\n",
       "      <td>27</td>\n",
       "      <td>181</td>\n",
       "      <td>3.523036</td>\n",
       "      <td>1.000000</td>\n",
       "      <td>0.2</td>\n",
       "      <td>0.166667</td>\n",
       "    </tr>\n",
       "    <tr>\n",
       "      <th>1</th>\n",
       "      <td>2944</td>\n",
       "      <td>28</td>\n",
       "      <td>181</td>\n",
       "      <td>2.046407</td>\n",
       "      <td>0.686306</td>\n",
       "      <td>0.4</td>\n",
       "      <td>0.166667</td>\n",
       "    </tr>\n",
       "    <tr>\n",
       "      <th>2</th>\n",
       "      <td>2631</td>\n",
       "      <td>27</td>\n",
       "      <td>186</td>\n",
       "      <td>1.900293</td>\n",
       "      <td>0.602098</td>\n",
       "      <td>0.2</td>\n",
       "      <td>1.000000</td>\n",
       "    </tr>\n",
       "    <tr>\n",
       "      <th>3</th>\n",
       "      <td>2601</td>\n",
       "      <td>27</td>\n",
       "      <td>183</td>\n",
       "      <td>1.721571</td>\n",
       "      <td>0.594027</td>\n",
       "      <td>0.2</td>\n",
       "      <td>0.500000</td>\n",
       "    </tr>\n",
       "    <tr>\n",
       "      <th>4</th>\n",
       "      <td>2303</td>\n",
       "      <td>28</td>\n",
       "      <td>184</td>\n",
       "      <td>1.559659</td>\n",
       "      <td>0.513855</td>\n",
       "      <td>0.4</td>\n",
       "      <td>0.666667</td>\n",
       "    </tr>\n",
       "  </tbody>\n",
       "</table>\n",
       "</div>"
      ],
      "text/plain": [
       "     身价  平均年龄  平均身高     score      身价_n  平均年龄_n    平均身高_n\n",
       "0  4110    27   181  3.523036  1.000000     0.2  0.166667\n",
       "1  2944    28   181  2.046407  0.686306     0.4  0.166667\n",
       "2  2631    27   186  1.900293  0.602098     0.2  1.000000\n",
       "3  2601    27   183  1.721571  0.594027     0.2  0.500000\n",
       "4  2303    28   184  1.559659  0.513855     0.4  0.666667"
      ]
     },
     "execution_count": 45,
     "metadata": {},
     "output_type": "execute_result"
    }
   ],
   "source": [
    "\n",
    "\n",
    "def data_norm(df,*cols):\n",
    "    df_n = df.copy()\n",
    "    for col in cols:\n",
    "        ma = df_n[col].max()\n",
    "        mi = df_n[col].min()\n",
    "        df_n[col + '_n'] = (df_n[col] - mi) / (ma - mi)\n",
    "    return(df_n)\n",
    "# 创建函数，标准化数据\n",
    "\n",
    "adv_data = data_norm(adv_data,'身价')\n",
    "adv_data = data_norm(adv_data,'平均年龄')\n",
    "adv_data = data_norm(adv_data,'平均身高')\n",
    "adv_data.head(5)"
   ]
  },
  {
   "cell_type": "code",
   "execution_count": 46,
   "metadata": {},
   "outputs": [],
   "source": [
    "df=adv_data[['身价_n','平均年龄_n','平均身高_n','score']]"
   ]
  },
  {
   "cell_type": "code",
   "execution_count": 47,
   "metadata": {},
   "outputs": [
    {
     "name": "stderr",
     "output_type": "stream",
     "text": [
      "D:\\anaconda\\lib\\site-packages\\matplotlib\\backends\\backend_agg.py:238: RuntimeWarning: Glyph 36523 missing from current font.\n",
      "  font.set_text(s, 0.0, flags=flags)\n",
      "D:\\anaconda\\lib\\site-packages\\matplotlib\\backends\\backend_agg.py:238: RuntimeWarning: Glyph 20215 missing from current font.\n",
      "  font.set_text(s, 0.0, flags=flags)\n",
      "D:\\anaconda\\lib\\site-packages\\matplotlib\\backends\\backend_agg.py:238: RuntimeWarning: Glyph 24179 missing from current font.\n",
      "  font.set_text(s, 0.0, flags=flags)\n",
      "D:\\anaconda\\lib\\site-packages\\matplotlib\\backends\\backend_agg.py:238: RuntimeWarning: Glyph 22343 missing from current font.\n",
      "  font.set_text(s, 0.0, flags=flags)\n",
      "D:\\anaconda\\lib\\site-packages\\matplotlib\\backends\\backend_agg.py:238: RuntimeWarning: Glyph 24180 missing from current font.\n",
      "  font.set_text(s, 0.0, flags=flags)\n",
      "D:\\anaconda\\lib\\site-packages\\matplotlib\\backends\\backend_agg.py:238: RuntimeWarning: Glyph 40836 missing from current font.\n",
      "  font.set_text(s, 0.0, flags=flags)\n",
      "D:\\anaconda\\lib\\site-packages\\matplotlib\\backends\\backend_agg.py:238: RuntimeWarning: Glyph 39640 missing from current font.\n",
      "  font.set_text(s, 0.0, flags=flags)\n",
      "D:\\anaconda\\lib\\site-packages\\matplotlib\\backends\\backend_agg.py:201: RuntimeWarning: Glyph 36523 missing from current font.\n",
      "  font.set_text(s, 0, flags=flags)\n",
      "D:\\anaconda\\lib\\site-packages\\matplotlib\\backends\\backend_agg.py:201: RuntimeWarning: Glyph 20215 missing from current font.\n",
      "  font.set_text(s, 0, flags=flags)\n",
      "D:\\anaconda\\lib\\site-packages\\matplotlib\\backends\\backend_agg.py:201: RuntimeWarning: Glyph 24179 missing from current font.\n",
      "  font.set_text(s, 0, flags=flags)\n",
      "D:\\anaconda\\lib\\site-packages\\matplotlib\\backends\\backend_agg.py:201: RuntimeWarning: Glyph 22343 missing from current font.\n",
      "  font.set_text(s, 0, flags=flags)\n",
      "D:\\anaconda\\lib\\site-packages\\matplotlib\\backends\\backend_agg.py:201: RuntimeWarning: Glyph 24180 missing from current font.\n",
      "  font.set_text(s, 0, flags=flags)\n",
      "D:\\anaconda\\lib\\site-packages\\matplotlib\\backends\\backend_agg.py:201: RuntimeWarning: Glyph 40836 missing from current font.\n",
      "  font.set_text(s, 0, flags=flags)\n",
      "D:\\anaconda\\lib\\site-packages\\matplotlib\\backends\\backend_agg.py:201: RuntimeWarning: Glyph 39640 missing from current font.\n",
      "  font.set_text(s, 0, flags=flags)\n"
     ]
    },
    {
     "data": {
      "image/png": "[encoded data removed]",
      "text/plain": [
       "<Figure size 432x288 with 1 Axes>"
      ]
     },
     "metadata": {
      "needs_background": "light"
     },
     "output_type": "display_data"
    },
    {
     "name": "stdout",
     "output_type": "stream",
     "text": [
      "            身价_n    平均年龄_n    平均身高_n     score\n",
      "身价_n    1.000000 -0.348182 -0.167239  0.967093\n",
      "平均年龄_n -0.348182  1.000000 -0.325379 -0.355156\n",
      "平均身高_n -0.167239 -0.325379  1.000000 -0.174202\n",
      "score   0.967093 -0.355156 -0.174202  1.000000\n"
     ]
    }
   ],
   "source": [
    "df.boxplot()\n",
    "plt.savefig(\"boxplot.jpg\")\n",
    "plt.show()\n",
    "##相关系数矩阵 r(相关系数) = x和y的协方差/(x的标准差*y的标准差) == cov（x,y）/σx*σy\n",
    "#相关系数0~0.3弱相关0.3~0.6中等程度相关0.6~1强相关\n",
    "print(df.corr())"
   ]
  },
  {
   "cell_type": "code",
   "execution_count": 48,
   "metadata": {},
   "outputs": [],
   "source": [
    "from __future__ import division\n",
    "import seaborn as sns"
   ]
  },
  {
   "cell_type": "code",
   "execution_count": 49,
   "metadata": {},
   "outputs": [
    {
     "name": "stderr",
     "output_type": "stream",
     "text": [
      "D:\\anaconda\\lib\\site-packages\\seaborn\\axisgrid.py:1912: UserWarning: The `size` parameter has been renamed to `height`; please update your code.\n",
      "  warnings.warn(msg, UserWarning)\n",
      "D:\\anaconda\\lib\\site-packages\\matplotlib\\backends\\backend_agg.py:238: RuntimeWarning: Glyph 36523 missing from current font.\n",
      "  font.set_text(s, 0.0, flags=flags)\n",
      "D:\\anaconda\\lib\\site-packages\\matplotlib\\backends\\backend_agg.py:238: RuntimeWarning: Glyph 20215 missing from current font.\n",
      "  font.set_text(s, 0.0, flags=flags)\n",
      "D:\\anaconda\\lib\\site-packages\\matplotlib\\backends\\backend_agg.py:238: RuntimeWarning: Glyph 24179 missing from current font.\n",
      "  font.set_text(s, 0.0, flags=flags)\n",
      "D:\\anaconda\\lib\\site-packages\\matplotlib\\backends\\backend_agg.py:238: RuntimeWarning: Glyph 22343 missing from current font.\n",
      "  font.set_text(s, 0.0, flags=flags)\n",
      "D:\\anaconda\\lib\\site-packages\\matplotlib\\backends\\backend_agg.py:238: RuntimeWarning: Glyph 24180 missing from current font.\n",
      "  font.set_text(s, 0.0, flags=flags)\n",
      "D:\\anaconda\\lib\\site-packages\\matplotlib\\backends\\backend_agg.py:238: RuntimeWarning: Glyph 40836 missing from current font.\n",
      "  font.set_text(s, 0.0, flags=flags)\n",
      "D:\\anaconda\\lib\\site-packages\\matplotlib\\backends\\backend_agg.py:238: RuntimeWarning: Glyph 39640 missing from current font.\n",
      "  font.set_text(s, 0.0, flags=flags)\n",
      "D:\\anaconda\\lib\\site-packages\\matplotlib\\backends\\backend_agg.py:238: RuntimeWarning: Glyph 36523 missing from current font.\n",
      "  font.set_text(s, 0.0, flags=flags)\n",
      "D:\\anaconda\\lib\\site-packages\\matplotlib\\backends\\backend_agg.py:238: RuntimeWarning: Glyph 20215 missing from current font.\n",
      "  font.set_text(s, 0.0, flags=flags)\n",
      "D:\\anaconda\\lib\\site-packages\\matplotlib\\backends\\backend_agg.py:238: RuntimeWarning: Glyph 24179 missing from current font.\n",
      "  font.set_text(s, 0.0, flags=flags)\n",
      "D:\\anaconda\\lib\\site-packages\\matplotlib\\backends\\backend_agg.py:238: RuntimeWarning: Glyph 22343 missing from current font.\n",
      "  font.set_text(s, 0.0, flags=flags)\n",
      "D:\\anaconda\\lib\\site-packages\\matplotlib\\backends\\backend_agg.py:238: RuntimeWarning: Glyph 24180 missing from current font.\n",
      "  font.set_text(s, 0.0, flags=flags)\n",
      "D:\\anaconda\\lib\\site-packages\\matplotlib\\backends\\backend_agg.py:238: RuntimeWarning: Glyph 40836 missing from current font.\n",
      "  font.set_text(s, 0.0, flags=flags)\n",
      "D:\\anaconda\\lib\\site-packages\\matplotlib\\backends\\backend_agg.py:238: RuntimeWarning: Glyph 39640 missing from current font.\n",
      "  font.set_text(s, 0.0, flags=flags)\n",
      "D:\\anaconda\\lib\\site-packages\\matplotlib\\backends\\backend_agg.py:201: RuntimeWarning: Glyph 36523 missing from current font.\n",
      "  font.set_text(s, 0, flags=flags)\n",
      "D:\\anaconda\\lib\\site-packages\\matplotlib\\backends\\backend_agg.py:201: RuntimeWarning: Glyph 20215 missing from current font.\n",
      "  font.set_text(s, 0, flags=flags)\n",
      "D:\\anaconda\\lib\\site-packages\\matplotlib\\backends\\backend_agg.py:201: RuntimeWarning: Glyph 24179 missing from current font.\n",
      "  font.set_text(s, 0, flags=flags)\n",
      "D:\\anaconda\\lib\\site-packages\\matplotlib\\backends\\backend_agg.py:201: RuntimeWarning: Glyph 22343 missing from current font.\n",
      "  font.set_text(s, 0, flags=flags)\n",
      "D:\\anaconda\\lib\\site-packages\\matplotlib\\backends\\backend_agg.py:201: RuntimeWarning: Glyph 24180 missing from current font.\n",
      "  font.set_text(s, 0, flags=flags)\n",
      "D:\\anaconda\\lib\\site-packages\\matplotlib\\backends\\backend_agg.py:201: RuntimeWarning: Glyph 40836 missing from current font.\n",
      "  font.set_text(s, 0, flags=flags)\n",
      "D:\\anaconda\\lib\\site-packages\\matplotlib\\backends\\backend_agg.py:201: RuntimeWarning: Glyph 39640 missing from current font.\n",
      "  font.set_text(s, 0, flags=flags)\n"
     ]
    },
    {
     "data": {
      "image/png": "[encoded data removed]",
      "text/plain": [
       "<Figure size 1209.6x504 with 3 Axes>"
      ]
     },
     "metadata": {
      "needs_background": "light"
     },
     "output_type": "display_data"
    }
   ],
   "source": [
    "# 通过加入一个参数kind='reg'，seaborn可以添加一条最佳拟合直线和95%的置信带。\n",
    "sns.pairplot(df, x_vars=['身价_n','平均年龄_n','平均身高_n'], y_vars='score', size=7, aspect=0.8,kind = 'reg')\n",
    "plt.savefig(\"pairplot.jpg\")\n",
    "plt.show()"
   ]
  },
  {
   "cell_type": "code",
   "execution_count": null,
   "metadata": {},
   "outputs": [],
   "source": []
  },
  {
   "cell_type": "code",
   "execution_count": 50,
   "metadata": {},
   "outputs": [
    {
     "name": "stderr",
     "output_type": "stream",
     "text": [
      "D:\\anaconda\\lib\\site-packages\\matplotlib\\backends\\backend_agg.py:238: RuntimeWarning: Glyph 36523 missing from current font.\n",
      "  font.set_text(s, 0.0, flags=flags)\n",
      "D:\\anaconda\\lib\\site-packages\\matplotlib\\backends\\backend_agg.py:238: RuntimeWarning: Glyph 20215 missing from current font.\n",
      "  font.set_text(s, 0.0, flags=flags)\n",
      "D:\\anaconda\\lib\\site-packages\\matplotlib\\backends\\backend_agg.py:238: RuntimeWarning: Glyph 24179 missing from current font.\n",
      "  font.set_text(s, 0.0, flags=flags)\n",
      "D:\\anaconda\\lib\\site-packages\\matplotlib\\backends\\backend_agg.py:238: RuntimeWarning: Glyph 22343 missing from current font.\n",
      "  font.set_text(s, 0.0, flags=flags)\n",
      "D:\\anaconda\\lib\\site-packages\\matplotlib\\backends\\backend_agg.py:238: RuntimeWarning: Glyph 24180 missing from current font.\n",
      "  font.set_text(s, 0.0, flags=flags)\n",
      "D:\\anaconda\\lib\\site-packages\\matplotlib\\backends\\backend_agg.py:238: RuntimeWarning: Glyph 40836 missing from current font.\n",
      "  font.set_text(s, 0.0, flags=flags)\n",
      "D:\\anaconda\\lib\\site-packages\\matplotlib\\backends\\backend_agg.py:238: RuntimeWarning: Glyph 39640 missing from current font.\n",
      "  font.set_text(s, 0.0, flags=flags)\n",
      "D:\\anaconda\\lib\\site-packages\\matplotlib\\backends\\backend_agg.py:201: RuntimeWarning: Glyph 36523 missing from current font.\n",
      "  font.set_text(s, 0, flags=flags)\n",
      "D:\\anaconda\\lib\\site-packages\\matplotlib\\backends\\backend_agg.py:201: RuntimeWarning: Glyph 20215 missing from current font.\n",
      "  font.set_text(s, 0, flags=flags)\n",
      "D:\\anaconda\\lib\\site-packages\\matplotlib\\backends\\backend_agg.py:201: RuntimeWarning: Glyph 24179 missing from current font.\n",
      "  font.set_text(s, 0, flags=flags)\n",
      "D:\\anaconda\\lib\\site-packages\\matplotlib\\backends\\backend_agg.py:201: RuntimeWarning: Glyph 22343 missing from current font.\n",
      "  font.set_text(s, 0, flags=flags)\n",
      "D:\\anaconda\\lib\\site-packages\\matplotlib\\backends\\backend_agg.py:201: RuntimeWarning: Glyph 24180 missing from current font.\n",
      "  font.set_text(s, 0, flags=flags)\n",
      "D:\\anaconda\\lib\\site-packages\\matplotlib\\backends\\backend_agg.py:201: RuntimeWarning: Glyph 40836 missing from current font.\n",
      "  font.set_text(s, 0, flags=flags)\n",
      "D:\\anaconda\\lib\\site-packages\\matplotlib\\backends\\backend_agg.py:201: RuntimeWarning: Glyph 39640 missing from current font.\n",
      "  font.set_text(s, 0, flags=flags)\n"
     ]
    },
    {
     "data": {
      "image/png": "[encoded data removed]",
      "text/plain": [
       "<Figure size 432x288 with 1 Axes>"
      ]
     },
     "metadata": {
      "needs_background": "light"
     },
     "output_type": "display_data"
    },
    {
     "name": "stdout",
     "output_type": "stream",
     "text": [
      "              身价      平均年龄      平均身高     score      身价_n    平均年龄_n    平均身高_n\n",
      "身价      1.000000 -0.348182 -0.167239  0.967093  1.000000 -0.348182 -0.167239\n",
      "平均年龄   -0.348182  1.000000 -0.325379 -0.355156 -0.348182  1.000000 -0.325379\n",
      "平均身高   -0.167239 -0.325379  1.000000 -0.174202 -0.167239 -0.325379  1.000000\n",
      "score   0.967093 -0.355156 -0.174202  1.000000  0.967093 -0.355156 -0.174202\n",
      "身价_n    1.000000 -0.348182 -0.167239  0.967093  1.000000 -0.348182 -0.167239\n",
      "平均年龄_n -0.348182  1.000000 -0.325379 -0.355156 -0.348182  1.000000 -0.325379\n",
      "平均身高_n -0.167239 -0.325379  1.000000 -0.174202 -0.167239 -0.325379  1.000000\n"
     ]
    }
   ],
   "source": [
    "adv_data.boxplot()\n",
    "plt.savefig(\"boxplot1.jpg\")\n",
    "plt.show()\n",
    "##相关系数矩阵 r(相关系数) = x和y的协方差/(x的标准差*y的标准差) == cov（x,y）/σx*σy\n",
    "#相关系数0~0.3弱相关0.3~0.6中等程度相关0.6~1强相关\n",
    "print(adv_data.corr())"
   ]
  },
  {
   "cell_type": "code",
   "execution_count": 51,
   "metadata": {},
   "outputs": [
    {
     "name": "stderr",
     "output_type": "stream",
     "text": [
      "D:\\anaconda\\lib\\site-packages\\seaborn\\axisgrid.py:1912: UserWarning: The `size` parameter has been renamed to `height`; please update your code.\n",
      "  warnings.warn(msg, UserWarning)\n",
      "D:\\anaconda\\lib\\site-packages\\matplotlib\\backends\\backend_agg.py:238: RuntimeWarning: Glyph 36523 missing from current font.\n",
      "  font.set_text(s, 0.0, flags=flags)\n",
      "D:\\anaconda\\lib\\site-packages\\matplotlib\\backends\\backend_agg.py:238: RuntimeWarning: Glyph 20215 missing from current font.\n",
      "  font.set_text(s, 0.0, flags=flags)\n",
      "D:\\anaconda\\lib\\site-packages\\matplotlib\\backends\\backend_agg.py:238: RuntimeWarning: Glyph 24179 missing from current font.\n",
      "  font.set_text(s, 0.0, flags=flags)\n",
      "D:\\anaconda\\lib\\site-packages\\matplotlib\\backends\\backend_agg.py:238: RuntimeWarning: Glyph 22343 missing from current font.\n",
      "  font.set_text(s, 0.0, flags=flags)\n",
      "D:\\anaconda\\lib\\site-packages\\matplotlib\\backends\\backend_agg.py:238: RuntimeWarning: Glyph 24180 missing from current font.\n",
      "  font.set_text(s, 0.0, flags=flags)\n",
      "D:\\anaconda\\lib\\site-packages\\matplotlib\\backends\\backend_agg.py:238: RuntimeWarning: Glyph 40836 missing from current font.\n",
      "  font.set_text(s, 0.0, flags=flags)\n",
      "D:\\anaconda\\lib\\site-packages\\matplotlib\\backends\\backend_agg.py:238: RuntimeWarning: Glyph 39640 missing from current font.\n",
      "  font.set_text(s, 0.0, flags=flags)\n",
      "D:\\anaconda\\lib\\site-packages\\matplotlib\\backends\\backend_agg.py:238: RuntimeWarning: Glyph 36523 missing from current font.\n",
      "  font.set_text(s, 0.0, flags=flags)\n",
      "D:\\anaconda\\lib\\site-packages\\matplotlib\\backends\\backend_agg.py:238: RuntimeWarning: Glyph 20215 missing from current font.\n",
      "  font.set_text(s, 0.0, flags=flags)\n",
      "D:\\anaconda\\lib\\site-packages\\matplotlib\\backends\\backend_agg.py:238: RuntimeWarning: Glyph 24179 missing from current font.\n",
      "  font.set_text(s, 0.0, flags=flags)\n",
      "D:\\anaconda\\lib\\site-packages\\matplotlib\\backends\\backend_agg.py:238: RuntimeWarning: Glyph 22343 missing from current font.\n",
      "  font.set_text(s, 0.0, flags=flags)\n",
      "D:\\anaconda\\lib\\site-packages\\matplotlib\\backends\\backend_agg.py:238: RuntimeWarning: Glyph 24180 missing from current font.\n",
      "  font.set_text(s, 0.0, flags=flags)\n",
      "D:\\anaconda\\lib\\site-packages\\matplotlib\\backends\\backend_agg.py:238: RuntimeWarning: Glyph 40836 missing from current font.\n",
      "  font.set_text(s, 0.0, flags=flags)\n",
      "D:\\anaconda\\lib\\site-packages\\matplotlib\\backends\\backend_agg.py:238: RuntimeWarning: Glyph 39640 missing from current font.\n",
      "  font.set_text(s, 0.0, flags=flags)\n",
      "D:\\anaconda\\lib\\site-packages\\matplotlib\\backends\\backend_agg.py:201: RuntimeWarning: Glyph 36523 missing from current font.\n",
      "  font.set_text(s, 0, flags=flags)\n",
      "D:\\anaconda\\lib\\site-packages\\matplotlib\\backends\\backend_agg.py:201: RuntimeWarning: Glyph 20215 missing from current font.\n",
      "  font.set_text(s, 0, flags=flags)\n",
      "D:\\anaconda\\lib\\site-packages\\matplotlib\\backends\\backend_agg.py:201: RuntimeWarning: Glyph 24179 missing from current font.\n",
      "  font.set_text(s, 0, flags=flags)\n",
      "D:\\anaconda\\lib\\site-packages\\matplotlib\\backends\\backend_agg.py:201: RuntimeWarning: Glyph 22343 missing from current font.\n",
      "  font.set_text(s, 0, flags=flags)\n",
      "D:\\anaconda\\lib\\site-packages\\matplotlib\\backends\\backend_agg.py:201: RuntimeWarning: Glyph 24180 missing from current font.\n",
      "  font.set_text(s, 0, flags=flags)\n",
      "D:\\anaconda\\lib\\site-packages\\matplotlib\\backends\\backend_agg.py:201: RuntimeWarning: Glyph 40836 missing from current font.\n",
      "  font.set_text(s, 0, flags=flags)\n",
      "D:\\anaconda\\lib\\site-packages\\matplotlib\\backends\\backend_agg.py:201: RuntimeWarning: Glyph 39640 missing from current font.\n",
      "  font.set_text(s, 0, flags=flags)\n"
     ]
    },
    {
     "data": {
      "image/png": "[encoded data removed]",
      "text/plain": [
       "<Figure size 1209.6x504 with 3 Axes>"
      ]
     },
     "metadata": {
      "needs_background": "light"
     },
     "output_type": "display_data"
    }
   ],
   "source": [
    "# 通过加入一个参数kind='reg'，seaborn可以添加一条最佳拟合直线和95%的置信带。\n",
    "sns.pairplot(adv_data, x_vars=['身价','平均年龄','平均身高'], y_vars='score', size=7, aspect=0.8,kind = 'reg')\n",
    "plt.savefig(\"pairplot2.jpg\")\n",
    "plt.show()"
   ]
  },
  {
   "cell_type": "code",
   "execution_count": 52,
   "metadata": {},
   "outputs": [
    {
     "data": {
      "text/html": [
       "<div>\n",
       "<style scoped>\n",
       "    .dataframe tbody tr th:only-of-type {\n",
       "        vertical-align: middle;\n",
       "    }\n",
       "\n",
       "    .dataframe tbody tr th {\n",
       "        vertical-align: top;\n",
       "    }\n",
       "\n",
       "    .dataframe thead th {\n",
       "        text-align: right;\n",
       "    }\n",
       "</style>\n",
       "<table border=\"1\" class=\"dataframe\">\n",
       "  <thead>\n",
       "    <tr style=\"text-align: right;\">\n",
       "      <th></th>\n",
       "      <th>身价</th>\n",
       "      <th>平均年龄</th>\n",
       "      <th>平均身高</th>\n",
       "      <th>score</th>\n",
       "      <th>身价_n</th>\n",
       "      <th>平均年龄_n</th>\n",
       "      <th>平均身高_n</th>\n",
       "    </tr>\n",
       "  </thead>\n",
       "  <tbody>\n",
       "    <tr>\n",
       "      <th>0</th>\n",
       "      <td>4110</td>\n",
       "      <td>27</td>\n",
       "      <td>181</td>\n",
       "      <td>3.523036</td>\n",
       "      <td>1.000000</td>\n",
       "      <td>0.2</td>\n",
       "      <td>0.166667</td>\n",
       "    </tr>\n",
       "    <tr>\n",
       "      <th>1</th>\n",
       "      <td>2944</td>\n",
       "      <td>28</td>\n",
       "      <td>181</td>\n",
       "      <td>2.046407</td>\n",
       "      <td>0.686306</td>\n",
       "      <td>0.4</td>\n",
       "      <td>0.166667</td>\n",
       "    </tr>\n",
       "    <tr>\n",
       "      <th>2</th>\n",
       "      <td>2631</td>\n",
       "      <td>27</td>\n",
       "      <td>186</td>\n",
       "      <td>1.900293</td>\n",
       "      <td>0.602098</td>\n",
       "      <td>0.2</td>\n",
       "      <td>1.000000</td>\n",
       "    </tr>\n",
       "    <tr>\n",
       "      <th>3</th>\n",
       "      <td>2601</td>\n",
       "      <td>27</td>\n",
       "      <td>183</td>\n",
       "      <td>1.721571</td>\n",
       "      <td>0.594027</td>\n",
       "      <td>0.2</td>\n",
       "      <td>0.500000</td>\n",
       "    </tr>\n",
       "    <tr>\n",
       "      <th>4</th>\n",
       "      <td>2303</td>\n",
       "      <td>28</td>\n",
       "      <td>184</td>\n",
       "      <td>1.559659</td>\n",
       "      <td>0.513855</td>\n",
       "      <td>0.4</td>\n",
       "      <td>0.666667</td>\n",
       "    </tr>\n",
       "    <tr>\n",
       "      <th>5</th>\n",
       "      <td>2003</td>\n",
       "      <td>27</td>\n",
       "      <td>182</td>\n",
       "      <td>1.448298</td>\n",
       "      <td>0.433145</td>\n",
       "      <td>0.2</td>\n",
       "      <td>0.333333</td>\n",
       "    </tr>\n",
       "    <tr>\n",
       "      <th>6</th>\n",
       "      <td>1910</td>\n",
       "      <td>28</td>\n",
       "      <td>180</td>\n",
       "      <td>1.764611</td>\n",
       "      <td>0.408125</td>\n",
       "      <td>0.4</td>\n",
       "      <td>0.000000</td>\n",
       "    </tr>\n",
       "    <tr>\n",
       "      <th>7</th>\n",
       "      <td>1622</td>\n",
       "      <td>26</td>\n",
       "      <td>184</td>\n",
       "      <td>1.484506</td>\n",
       "      <td>0.330643</td>\n",
       "      <td>0.0</td>\n",
       "      <td>0.666667</td>\n",
       "    </tr>\n",
       "    <tr>\n",
       "      <th>8</th>\n",
       "      <td>1544</td>\n",
       "      <td>27</td>\n",
       "      <td>184</td>\n",
       "      <td>1.218403</td>\n",
       "      <td>0.309658</td>\n",
       "      <td>0.2</td>\n",
       "      <td>0.666667</td>\n",
       "    </tr>\n",
       "    <tr>\n",
       "      <th>9</th>\n",
       "      <td>1504</td>\n",
       "      <td>27</td>\n",
       "      <td>183</td>\n",
       "      <td>0.975610</td>\n",
       "      <td>0.298897</td>\n",
       "      <td>0.2</td>\n",
       "      <td>0.500000</td>\n",
       "    </tr>\n",
       "    <tr>\n",
       "      <th>10</th>\n",
       "      <td>1199</td>\n",
       "      <td>28</td>\n",
       "      <td>183</td>\n",
       "      <td>1.248863</td>\n",
       "      <td>0.216842</td>\n",
       "      <td>0.4</td>\n",
       "      <td>0.500000</td>\n",
       "    </tr>\n",
       "    <tr>\n",
       "      <th>11</th>\n",
       "      <td>920</td>\n",
       "      <td>28</td>\n",
       "      <td>182</td>\n",
       "      <td>0.673625</td>\n",
       "      <td>0.141781</td>\n",
       "      <td>0.4</td>\n",
       "      <td>0.333333</td>\n",
       "    </tr>\n",
       "    <tr>\n",
       "      <th>12</th>\n",
       "      <td>860</td>\n",
       "      <td>27</td>\n",
       "      <td>184</td>\n",
       "      <td>0.673625</td>\n",
       "      <td>0.125639</td>\n",
       "      <td>0.2</td>\n",
       "      <td>0.666667</td>\n",
       "    </tr>\n",
       "    <tr>\n",
       "      <th>13</th>\n",
       "      <td>831</td>\n",
       "      <td>29</td>\n",
       "      <td>181</td>\n",
       "      <td>0.539391</td>\n",
       "      <td>0.117837</td>\n",
       "      <td>0.6</td>\n",
       "      <td>0.166667</td>\n",
       "    </tr>\n",
       "    <tr>\n",
       "      <th>14</th>\n",
       "      <td>757</td>\n",
       "      <td>28</td>\n",
       "      <td>181</td>\n",
       "      <td>0.595386</td>\n",
       "      <td>0.097928</td>\n",
       "      <td>0.4</td>\n",
       "      <td>0.166667</td>\n",
       "    </tr>\n",
       "    <tr>\n",
       "      <th>15</th>\n",
       "      <td>679</td>\n",
       "      <td>27</td>\n",
       "      <td>186</td>\n",
       "      <td>0.862297</td>\n",
       "      <td>0.076944</td>\n",
       "      <td>0.2</td>\n",
       "      <td>1.000000</td>\n",
       "    </tr>\n",
       "    <tr>\n",
       "      <th>16</th>\n",
       "      <td>646</td>\n",
       "      <td>31</td>\n",
       "      <td>183</td>\n",
       "      <td>0.580865</td>\n",
       "      <td>0.068066</td>\n",
       "      <td>1.0</td>\n",
       "      <td>0.500000</td>\n",
       "    </tr>\n",
       "    <tr>\n",
       "      <th>17</th>\n",
       "      <td>524</td>\n",
       "      <td>29</td>\n",
       "      <td>182</td>\n",
       "      <td>0.526235</td>\n",
       "      <td>0.035243</td>\n",
       "      <td>0.6</td>\n",
       "      <td>0.333333</td>\n",
       "    </tr>\n",
       "    <tr>\n",
       "      <th>18</th>\n",
       "      <td>458</td>\n",
       "      <td>28</td>\n",
       "      <td>184</td>\n",
       "      <td>0.363347</td>\n",
       "      <td>0.017487</td>\n",
       "      <td>0.4</td>\n",
       "      <td>0.666667</td>\n",
       "    </tr>\n",
       "    <tr>\n",
       "      <th>19</th>\n",
       "      <td>393</td>\n",
       "      <td>27</td>\n",
       "      <td>183</td>\n",
       "      <td>0.345839</td>\n",
       "      <td>0.000000</td>\n",
       "      <td>0.2</td>\n",
       "      <td>0.500000</td>\n",
       "    </tr>\n",
       "  </tbody>\n",
       "</table>\n",
       "</div>"
      ],
      "text/plain": [
       "      身价  平均年龄  平均身高     score      身价_n  平均年龄_n    平均身高_n\n",
       "0   4110    27   181  3.523036  1.000000     0.2  0.166667\n",
       "1   2944    28   181  2.046407  0.686306     0.4  0.166667\n",
       "2   2631    27   186  1.900293  0.602098     0.2  1.000000\n",
       "3   2601    27   183  1.721571  0.594027     0.2  0.500000\n",
       "4   2303    28   184  1.559659  0.513855     0.4  0.666667\n",
       "5   2003    27   182  1.448298  0.433145     0.2  0.333333\n",
       "6   1910    28   180  1.764611  0.408125     0.4  0.000000\n",
       "7   1622    26   184  1.484506  0.330643     0.0  0.666667\n",
       "8   1544    27   184  1.218403  0.309658     0.2  0.666667\n",
       "9   1504    27   183  0.975610  0.298897     0.2  0.500000\n",
       "10  1199    28   183  1.248863  0.216842     0.4  0.500000\n",
       "11   920    28   182  0.673625  0.141781     0.4  0.333333\n",
       "12   860    27   184  0.673625  0.125639     0.2  0.666667\n",
       "13   831    29   181  0.539391  0.117837     0.6  0.166667\n",
       "14   757    28   181  0.595386  0.097928     0.4  0.166667\n",
       "15   679    27   186  0.862297  0.076944     0.2  1.000000\n",
       "16   646    31   183  0.580865  0.068066     1.0  0.500000\n",
       "17   524    29   182  0.526235  0.035243     0.6  0.333333\n",
       "18   458    28   184  0.363347  0.017487     0.4  0.666667\n",
       "19   393    27   183  0.345839  0.000000     0.2  0.500000"
      ]
     },
     "execution_count": 52,
     "metadata": {},
     "output_type": "execute_result"
    }
   ],
   "source": []
  },
  {
   "cell_type": "code",
   "execution_count": null,
   "metadata": {},
   "outputs": [],
   "source": []
  },
  {
   "cell_type": "code",
   "execution_count": 59,
   "metadata": {},
   "outputs": [
    {
     "name": "stdout",
     "output_type": "stream",
     "text": [
      "原始数据特征: (20, 3) ,训练数据特征: (16, 3) ,测试数据特征: (4, 3)\n",
      "原始数据标签: (20,) ,训练数据标签: (16,) ,测试数据标签: (4,)\n"
     ]
    }
   ],
   "source": [
    "\n",
    "import sklearn\n",
    "X_train,X_test,Y_train,Y_test = sklearn.model_selection.train_test_split(adv_data[['身价','平均年龄','平均身高']],adv_data.score,train_size=.80)\n",
    " \n",
    "print(\"原始数据特征:\",adv_data[['身价','平均年龄','平均身高']].shape,\n",
    "      \",训练数据特征:\",X_train.shape,\n",
    "      \",测试数据特征:\",X_test.shape)\n",
    " \n",
    "print(\"原始数据标签:\",adv_data.score.shape,\n",
    "      \",训练数据标签:\",Y_train.shape,\n",
    "      \",测试数据标签:\",Y_test.shape)"
   ]
  },
  {
   "cell_type": "code",
   "execution_count": 60,
   "metadata": {},
   "outputs": [
    {
     "name": "stdout",
     "output_type": "stream",
     "text": [
      "最佳拟合线:截距 -0.21694995183743981 ,回归系数： [ 0.00077575 -0.00745624  0.00244002]\n"
     ]
    }
   ],
   "source": [
    "model = LinearRegression()\n",
    " \n",
    "model.fit(X_train,Y_train)\n",
    " \n",
    "a  = model.intercept_#截距\n",
    " \n",
    "b = model.coef_#回归系数\n",
    " \n",
    "print(\"最佳拟合线:截距\",a,\",回归系数：\",b)"
   ]
  },
  {
   "cell_type": "code",
   "execution_count": null,
   "metadata": {},
   "outputs": [],
   "source": []
  }
 ],
 "metadata": {
  "kernelspec": {
   "display_name": "Python 3",
   "language": "python",
   "name": "python3"
  },
  "language_info": {
   "codemirror_mode": {
    "name": "ipython",
    "version": 3
   },
   "file_extension": ".py",
   "mimetype": "text/x-python",
   "name": "python",
   "nbconvert_exporter": "python",
   "pygments_lexer": "ipython3",
   "version": "3.8.5"
  }
 },
 "nbformat": 4,
 "nbformat_minor": 4
}
