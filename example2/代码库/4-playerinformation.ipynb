{
 "cells": [
  {
   "cell_type": "code",
   "execution_count": null,
   "metadata": {},
   "outputs": [],
   "source": [
    "\n",
    "import re\n",
    "import pandas as pd\n",
    "f1=open('D:/澳客网/1819soccer1-32.txt','r', encoding='utf-8')\n",
    "f2=open('D:/澳客网/1819soccer33-38.txt','r', encoding='utf-8')\n",
    "\n",
    "def get_table(f):\n",
    "    host=[]\n",
    "    away=[]\n",
    "    for item in list(filter(None,f.read().splitlines())):\n",
    "        change=item.strip()\n",
    "        #print(change[:4])\n",
    "        if(change[:4]==1920):\n",
    "            continue\n",
    "        if(change[:2]=='主队'):\n",
    "            #print(re.findall(r\"\\d+\",change))\n",
    "            temp=re.findall(r\"\\d+\", change)\n",
    "            host.append(list(map(int,temp)))\n",
    "        if(change[:2]=='客队'):\n",
    "            temp1 = re.findall(r\"\\d+\", change)\n",
    "            away.append(list(map(int, temp1)))\n",
    "    all=[]\n",
    "    all=host\n",
    "    for i in range(len(host)):\n",
    "        for j in range(3):\n",
    "            all[i].append(away[i][j])\n",
    "    return pd.DataFrame(all)\n",
    "#print(\"all:\",all)\n",
    "d1=get_table(f1)\n",
    "print(d1)\n",
    "print(d1.shape[0])\n",
    "d2=get_table(f2)\n",
    "print(d2.shape[0])\n",
    "df=pd.concat([d1,d2])\n",
    "print(df)\n",
    "df.columns=['主队身价','主队评价年龄','主队平均身高','客队身价','客队平均年龄','客队平均身高']\n",
    "#df=df.iloc[:,0:-1]\n",
    "#print(df)\n",
    "df.to_csv('D:/澳客网/1819player.csv')\n",
    "print(df)"
   ]
  }
 ],
 "metadata": {
  "kernelspec": {
   "display_name": "Python 3",
   "language": "python",
   "name": "python3"
  },
  "language_info": {
   "codemirror_mode": {
    "name": "ipython",
    "version": 3
   },
   "file_extension": ".py",
   "mimetype": "text/x-python",
   "name": "python",
   "nbconvert_exporter": "python",
   "pygments_lexer": "ipython3",
   "version": "3.8.5"
  }
 },
 "nbformat": 4,
 "nbformat_minor": 4
}
