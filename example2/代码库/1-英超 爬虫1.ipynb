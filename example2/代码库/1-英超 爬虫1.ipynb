{
 "cells": [
  {
   "cell_type": "code",
   "execution_count": 29,
   "metadata": {},
   "outputs": [
    {
     "name": "stdout",
     "output_type": "stream",
     "text": [
      "OK\n"
     ]
    },
    {
     "ename": "IndexError",
     "evalue": "list index out of range",
     "output_type": "error",
     "traceback": [
      "\u001b[1;31m---------------------------------------------------------------------------\u001b[0m",
      "\u001b[1;31mIndexError\u001b[0m                                Traceback (most recent call last)",
      "\u001b[1;32m<ipython-input-29-e61e72086727>\u001b[0m in \u001b[0;36m<module>\u001b[1;34m\u001b[0m\n\u001b[0;32m     76\u001b[0m \u001b[1;32mif\u001b[0m \u001b[0m__name__\u001b[0m \u001b[1;33m==\u001b[0m \u001b[1;34m\"__main__\"\u001b[0m\u001b[1;33m:\u001b[0m  \u001b[1;31m# 当程序执行时\u001b[0m\u001b[1;33m\u001b[0m\u001b[1;33m\u001b[0m\u001b[0m\n\u001b[0;32m     77\u001b[0m     \u001b[1;31m# 调用函数\u001b[0m\u001b[1;33m\u001b[0m\u001b[1;33m\u001b[0m\u001b[1;33m\u001b[0m\u001b[0m\n\u001b[1;32m---> 78\u001b[1;33m      \u001b[0mmain\u001b[0m\u001b[1;33m(\u001b[0m\u001b[1;33m)\u001b[0m\u001b[1;33m\u001b[0m\u001b[1;33m\u001b[0m\u001b[0m\n\u001b[0m\u001b[0;32m     79\u001b[0m     \u001b[1;31m# init_db(\"movietest.db\")\u001b[0m\u001b[1;33m\u001b[0m\u001b[1;33m\u001b[0m\u001b[1;33m\u001b[0m\u001b[0m\n\u001b[0;32m     80\u001b[0m      \u001b[0mprint\u001b[0m\u001b[1;33m(\u001b[0m\u001b[1;34m\"爬取完毕！\"\u001b[0m\u001b[1;33m)\u001b[0m\u001b[1;33m\u001b[0m\u001b[1;33m\u001b[0m\u001b[0m\n",
      "\u001b[1;32m<ipython-input-29-e61e72086727>\u001b[0m in \u001b[0;36mmain\u001b[1;34m()\u001b[0m\n\u001b[0;32m     12\u001b[0m     \u001b[0mbaseurl\u001b[0m \u001b[1;33m=\u001b[0m \u001b[1;34m\"http://app.gooooal.com/resultschedule.do?lid=4&sid=2020&roundNum=1&lang=tr\"\u001b[0m  \u001b[1;31m#要爬取的网页链接\u001b[0m\u001b[1;33m\u001b[0m\u001b[1;33m\u001b[0m\u001b[0m\n\u001b[0;32m     13\u001b[0m     \u001b[1;31m# 1.爬取网页\u001b[0m\u001b[1;33m\u001b[0m\u001b[1;33m\u001b[0m\u001b[1;33m\u001b[0m\u001b[0m\n\u001b[1;32m---> 14\u001b[1;33m     \u001b[0mdatalist\u001b[0m \u001b[1;33m=\u001b[0m \u001b[0mgetData\u001b[0m\u001b[1;33m(\u001b[0m\u001b[0mbaseurl\u001b[0m\u001b[1;33m)\u001b[0m\u001b[1;33m\u001b[0m\u001b[1;33m\u001b[0m\u001b[0m\n\u001b[0m\u001b[0;32m     15\u001b[0m     \u001b[0msavepath\u001b[0m \u001b[1;33m=\u001b[0m \u001b[1;34m\"英超1.xls\"\u001b[0m    \u001b[1;31m#当前目录新建XLS，存储进去\u001b[0m\u001b[1;33m\u001b[0m\u001b[1;33m\u001b[0m\u001b[0m\n\u001b[0;32m     16\u001b[0m     \u001b[1;31m# 3.保存数据\u001b[0m\u001b[1;33m\u001b[0m\u001b[1;33m\u001b[0m\u001b[1;33m\u001b[0m\u001b[0m\n",
      "\u001b[1;32m<ipython-input-29-e61e72086727>\u001b[0m in \u001b[0;36mgetData\u001b[1;34m(baseurl)\u001b[0m\n\u001b[0;32m     30\u001b[0m         \u001b[0mdata\u001b[0m \u001b[1;33m=\u001b[0m \u001b[1;33m[\u001b[0m\u001b[1;33m]\u001b[0m  \u001b[1;31m# 保存 所有信息\u001b[0m\u001b[1;33m\u001b[0m\u001b[1;33m\u001b[0m\u001b[0m\n\u001b[0;32m     31\u001b[0m         \u001b[0mitem\u001b[0m \u001b[1;33m=\u001b[0m \u001b[0mstr\u001b[0m\u001b[1;33m(\u001b[0m\u001b[0mitem\u001b[0m\u001b[1;33m)\u001b[0m\u001b[1;33m\u001b[0m\u001b[1;33m\u001b[0m\u001b[0m\n\u001b[1;32m---> 32\u001b[1;33m         \u001b[0mTime_info\u001b[0m \u001b[1;33m=\u001b[0m \u001b[0mre\u001b[0m\u001b[1;33m.\u001b[0m\u001b[0mfindall\u001b[0m\u001b[1;33m(\u001b[0m\u001b[0mfindTime_info\u001b[0m\u001b[1;33m,\u001b[0m \u001b[0mitem\u001b[0m\u001b[1;33m)\u001b[0m\u001b[1;33m[\u001b[0m\u001b[1;36m0\u001b[0m\u001b[1;33m]\u001b[0m  \u001b[1;31m# 通过正则表达式查找\u001b[0m\u001b[1;33m\u001b[0m\u001b[1;33m\u001b[0m\u001b[0m\n\u001b[0m\u001b[0;32m     33\u001b[0m         \u001b[0mprint\u001b[0m\u001b[1;33m(\u001b[0m\u001b[0mTime_info\u001b[0m\u001b[1;33m)\u001b[0m\u001b[1;33m\u001b[0m\u001b[1;33m\u001b[0m\u001b[0m\n\u001b[0;32m     34\u001b[0m         \u001b[0mdata\u001b[0m\u001b[1;33m.\u001b[0m\u001b[0mappend\u001b[0m\u001b[1;33m(\u001b[0m\u001b[0mTime_info\u001b[0m\u001b[1;33m)\u001b[0m\u001b[1;33m\u001b[0m\u001b[1;33m\u001b[0m\u001b[0m\n",
      "\u001b[1;31mIndexError\u001b[0m: list index out of range"
     ]
    }
   ],
   "source": [
    "# -*- codeing = utf-8 -*-\n",
    "from bs4 import BeautifulSoup  # 网页解析，获取数据\n",
    "import re  # 正则表达式，进行文字匹配`\n",
    "import urllib.request, urllib.error  # 制定URL，获取网页数据\n",
    "import xlwt  # 进行excel操作\n",
    "#import sqlite3  # 进行SQLite数据库操作\n",
    "\n",
    "findTime_info = re.compile(r'<font style=\"vertical-align: inherit;\">(.*?)</font>')\n",
    "\n",
    "#\n",
    "def main():\n",
    "    baseurl = \"http://app.gooooal.com/resultschedule.do?lid=4&sid=2020&roundNum=1&lang=tr\"  #要爬取的网页链接\n",
    "    # 1.爬取网页\n",
    "    datalist = getData(baseurl)\n",
    "    savepath = \"英超1.xls\"    #当前目录新建XLS，存储进去\n",
    "    # 3.保存数据\n",
    "    saveData(datalist,savepath)      #2种存储方式可以只选择一种\n",
    "#\n",
    "\n",
    "# 爬取网页\n",
    "def getData(baseurl):\n",
    "    datalist = []  #用来存储爬取的网页信息\n",
    "    url = baseurl\n",
    "    html = askURL(url)  # 保存获取到的网页源码\n",
    "    # 2.逐一解析数据\n",
    "    soup = BeautifulSoup(html, \"html.parser\")\n",
    "\n",
    "    for item in soup.find_all('tr', class_=\"alt\"):  # 查找符合要求的字符串\n",
    "        data = []  # 保存 所有信息\n",
    "        item = str(item)\n",
    "        Time_info = re.findall(findTime_info, item)[0]  # 通过正则表达式查找\n",
    "        print(Time_info)\n",
    "        data.append(Time_info)\n",
    "        datalist.append(data)\n",
    "    return datalist\n",
    "#\n",
    "\n",
    "#\n",
    "def askURL(url):\n",
    "    head = {  # 模拟浏览器头部信息，向豆瓣服务器发送消息\n",
    "        \"User-Agent\": \"Mozilla/5.0 (Linux; Android 6.0; Nexus 5 Build/MRA58N) AppleWebKit/537.36 (KHTML, like Gecko) Chrome/91.0.4472.77 Mobile Safari/537.36\"\n",
    "    }\n",
    "    # 用户代理，表示告诉豆瓣服务器，我们是什么类型的机器、浏览器（本质上是告诉浏览器，我们可以接收什么水平的文件内容）\n",
    "    request = urllib.request.Request(url, headers=head)\n",
    "    html = \"\"\n",
    "    try:\n",
    "        response = urllib.request.urlopen(request)\n",
    "        html = response.read().decode(\"utf-8\")\n",
    "    except urllib.error.URLError as e:\n",
    "        if hasattr(e, \"code\"):\n",
    "            print(e.code)\n",
    "        if hasattr(e, \"reason\"):\n",
    "            print(e.reason)\n",
    "            \n",
    "    return html\n",
    "#\n",
    "\n",
    "# 保存数据到表格\n",
    "def saveData(datalist,savepath):\n",
    "    print(\"save.......\")\n",
    "    book = xlwt.Workbook(encoding=\"utf-8\",style_compression=0) #创建workbook对象\n",
    "    sheet = book.add_sheet('英超20-21', cell_overwrite_ok=True) #创建工作表\n",
    "    col = (\"队伍1\")\n",
    "    for i in range(0,1):\n",
    "        sheet.write(0,i,col[i])  #列名\n",
    "    for i in range(0,1):\n",
    "        # print(\"第%d条\" %(i+1))       #输出语句，用来测试\n",
    "        data = datalist[i]\n",
    "        for j in range(0,1):\n",
    "            sheet.write(i+1,j,data[j])  #数据\n",
    "    book.save(savepath) #保存\n",
    "#\n",
    "\n",
    "#\n",
    "if __name__ == \"__main__\":  # 当程序执行时\n",
    "    # 调用函数\n",
    "     main()\n",
    "    # init_db(\"movietest.db\")\n",
    "     print(\"爬取完毕！\")\n",
    "#   "
   ]
  },
  {
   "cell_type": "code",
   "execution_count": null,
   "metadata": {},
   "outputs": [],
   "source": []
  },
  {
   "cell_type": "code",
   "execution_count": null,
   "metadata": {},
   "outputs": [],
   "source": []
  }
 ],
 "metadata": {
  "kernelspec": {
   "display_name": "Python 3",
   "language": "python",
   "name": "python3"
  },
  "language_info": {
   "codemirror_mode": {
    "name": "ipython",
    "version": 3
   },
   "file_extension": ".py",
   "mimetype": "text/x-python",
   "name": "python",
   "nbconvert_exporter": "python",
   "pygments_lexer": "ipython3",
   "version": "3.8.5"
  }
 },
 "nbformat": 4,
 "nbformat_minor": 4
}
