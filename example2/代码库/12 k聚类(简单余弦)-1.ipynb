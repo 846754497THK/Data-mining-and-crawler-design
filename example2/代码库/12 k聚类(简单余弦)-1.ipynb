{
 "cells": [
  {
   "cell_type": "code",
   "execution_count": 97,
   "metadata": {},
   "outputs": [],
   "source": [
    "import pandas as pd\n",
    "df = pd.read_csv(\"5year3.csv\")\n",
    "N=1898"
   ]
  },
  {
   "cell_type": "code",
   "execution_count": 98,
   "metadata": {},
   "outputs": [
    {
     "data": {
      "text/html": [
       "<div>\n",
       "<style scoped>\n",
       "    .dataframe tbody tr th:only-of-type {\n",
       "        vertical-align: middle;\n",
       "    }\n",
       "\n",
       "    .dataframe tbody tr th {\n",
       "        vertical-align: top;\n",
       "    }\n",
       "\n",
       "    .dataframe thead th {\n",
       "        text-align: right;\n",
       "    }\n",
       "</style>\n",
       "<table border=\"1\" class=\"dataframe\">\n",
       "  <thead>\n",
       "    <tr style=\"text-align: right;\">\n",
       "      <th></th>\n",
       "      <th>日期</th>\n",
       "      <th>轮次</th>\n",
       "      <th>主队</th>\n",
       "      <th>比分</th>\n",
       "      <th>客队</th>\n",
       "      <th>主队指数</th>\n",
       "      <th>平指数</th>\n",
       "      <th>客队指数</th>\n",
       "      <th>分析</th>\n",
       "      <th>year</th>\n",
       "      <th>score1</th>\n",
       "      <th>score2</th>\n",
       "      <th>home</th>\n",
       "      <th>draw</th>\n",
       "      <th>away</th>\n",
       "    </tr>\n",
       "  </thead>\n",
       "  <tbody>\n",
       "    <tr>\n",
       "      <th>0</th>\n",
       "      <td>09-12 19:30</td>\n",
       "      <td>1</td>\n",
       "      <td>富勒姆</td>\n",
       "      <td>0-3</td>\n",
       "      <td>阿森纳</td>\n",
       "      <td>4.72</td>\n",
       "      <td>3.83</td>\n",
       "      <td>1.67</td>\n",
       "      <td>欧/析</td>\n",
       "      <td>20-21</td>\n",
       "      <td>0</td>\n",
       "      <td>3</td>\n",
       "      <td>5.058723</td>\n",
       "      <td>4.104854</td>\n",
       "      <td>1.789845</td>\n",
       "    </tr>\n",
       "    <tr>\n",
       "      <th>1</th>\n",
       "      <td>09-12 22:00</td>\n",
       "      <td>1</td>\n",
       "      <td>水晶宫</td>\n",
       "      <td>1-0</td>\n",
       "      <td>南安普敦</td>\n",
       "      <td>2.91</td>\n",
       "      <td>3.19</td>\n",
       "      <td>2.54</td>\n",
       "      <td>欧/析</td>\n",
       "      <td>20-21</td>\n",
       "      <td>1</td>\n",
       "      <td>0</td>\n",
       "      <td>3.057895</td>\n",
       "      <td>3.352125</td>\n",
       "      <td>2.669090</td>\n",
       "    </tr>\n",
       "    <tr>\n",
       "      <th>2</th>\n",
       "      <td>09-13 00:30</td>\n",
       "      <td>1</td>\n",
       "      <td>利物浦</td>\n",
       "      <td>4-3</td>\n",
       "      <td>利兹联</td>\n",
       "      <td>1.26</td>\n",
       "      <td>5.93</td>\n",
       "      <td>10.18</td>\n",
       "      <td>欧/析</td>\n",
       "      <td>20-21</td>\n",
       "      <td>4</td>\n",
       "      <td>3</td>\n",
       "      <td>1.336251</td>\n",
       "      <td>6.288864</td>\n",
       "      <td>10.796060</td>\n",
       "    </tr>\n",
       "    <tr>\n",
       "      <th>3</th>\n",
       "      <td>09-13 03:00</td>\n",
       "      <td>1</td>\n",
       "      <td>西汉姆</td>\n",
       "      <td>0-2</td>\n",
       "      <td>纽卡斯尔</td>\n",
       "      <td>2.20</td>\n",
       "      <td>3.32</td>\n",
       "      <td>3.22</td>\n",
       "      <td>欧/析</td>\n",
       "      <td>20-21</td>\n",
       "      <td>0</td>\n",
       "      <td>2</td>\n",
       "      <td>2.345880</td>\n",
       "      <td>3.540147</td>\n",
       "      <td>3.433516</td>\n",
       "    </tr>\n",
       "    <tr>\n",
       "      <th>4</th>\n",
       "      <td>09-13 21:00</td>\n",
       "      <td>1</td>\n",
       "      <td>西布朗</td>\n",
       "      <td>0-3</td>\n",
       "      <td>莱切城</td>\n",
       "      <td>3.80</td>\n",
       "      <td>3.59</td>\n",
       "      <td>1.97</td>\n",
       "      <td>欧/析</td>\n",
       "      <td>20-21</td>\n",
       "      <td>0</td>\n",
       "      <td>3</td>\n",
       "      <td>3.987430</td>\n",
       "      <td>3.767072</td>\n",
       "      <td>2.067168</td>\n",
       "    </tr>\n",
       "  </tbody>\n",
       "</table>\n",
       "</div>"
      ],
      "text/plain": [
       "            日期  轮次   主队   比分     客队  主队指数   平指数   客队指数   分析   year  score1  \\\n",
       "0  09-12 19:30   1  富勒姆  0-3    阿森纳  4.72  3.83   1.67  欧/析  20-21       0   \n",
       "1  09-12 22:00   1  水晶宫  1-0   南安普敦  2.91  3.19   2.54  欧/析  20-21       1   \n",
       "2  09-13 00:30   1  利物浦  4-3    利兹联  1.26  5.93  10.18  欧/析  20-21       4   \n",
       "3  09-13 03:00   1  西汉姆  0-2   纽卡斯尔  2.20  3.32   3.22  欧/析  20-21       0   \n",
       "4  09-13 21:00   1  西布朗  0-3    莱切城  3.80  3.59   1.97  欧/析  20-21       0   \n",
       "\n",
       "   score2      home      draw       away  \n",
       "0       3  5.058723  4.104854   1.789845  \n",
       "1       0  3.057895  3.352125   2.669090  \n",
       "2       3  1.336251  6.288864  10.796060  \n",
       "3       2  2.345880  3.540147   3.433516  \n",
       "4       3  3.987430  3.767072   2.067168  "
      ]
     },
     "execution_count": 98,
     "metadata": {},
     "output_type": "execute_result"
    }
   ],
   "source": [
    "df.head(5)"
   ]
  },
  {
   "cell_type": "code",
   "execution_count": 99,
   "metadata": {},
   "outputs": [],
   "source": [
    "df['ans']=0"
   ]
  },
  {
   "cell_type": "code",
   "execution_count": 100,
   "metadata": {},
   "outputs": [
    {
     "name": "stderr",
     "output_type": "stream",
     "text": [
      "<ipython-input-100-ea1a90b26067>:7: SettingWithCopyWarning: \n",
      "A value is trying to be set on a copy of a slice from a DataFrame\n",
      "\n",
      "See the caveats in the documentation: https://pandas.pydata.org/pandas-docs/stable/user_guide/indexing.html#returning-a-view-versus-a-copy\n",
      "  df['ans'][i]=-1\n",
      "<ipython-input-100-ea1a90b26067>:3: SettingWithCopyWarning: \n",
      "A value is trying to be set on a copy of a slice from a DataFrame\n",
      "\n",
      "See the caveats in the documentation: https://pandas.pydata.org/pandas-docs/stable/user_guide/indexing.html#returning-a-view-versus-a-copy\n",
      "  df['ans'][i]=1\n",
      "<ipython-input-100-ea1a90b26067>:5: SettingWithCopyWarning: \n",
      "A value is trying to be set on a copy of a slice from a DataFrame\n",
      "\n",
      "See the caveats in the documentation: https://pandas.pydata.org/pandas-docs/stable/user_guide/indexing.html#returning-a-view-versus-a-copy\n",
      "  df['ans'][i]=0\n"
     ]
    }
   ],
   "source": [
    "for i in range(N):\n",
    "    if (df['score1'][i]>df['score2'][i]):\n",
    "        df['ans'][i]=1\n",
    "    if (df['score1'][i]==df['score2'][i]):\n",
    "        df['ans'][i]=0\n",
    "    if (df['score1'][i]<df['score2'][i]):\n",
    "        df['ans'][i]=-1\n"
   ]
  },
  {
   "cell_type": "code",
   "execution_count": 101,
   "metadata": {},
   "outputs": [],
   "source": [
    "import numpy as np\n",
    "from sklearn import metrics \n",
    "import math\n",
    "x=np.array(df[['home','draw','away']])"
   ]
  },
  {
   "cell_type": "code",
   "execution_count": 102,
   "metadata": {},
   "outputs": [
    {
     "data": {
      "text/plain": [
       "array([1855, 1060, 1176, ..., 1482,   61, 1426])"
      ]
     },
     "execution_count": 102,
     "metadata": {},
     "output_type": "execute_result"
    }
   ],
   "source": [
    "# 生成随机数列 k-mean 用\n",
    "RAM=np.random.permutation(N)\n",
    "RAM"
   ]
  },
  {
   "cell_type": "code",
   "execution_count": 187,
   "metadata": {},
   "outputs": [],
   "source": [
    "def distance(a,b):\n",
    "    if (np.linalg.norm(b)==0) or (np.linalg.norm(a)==0):\n",
    "        return 0\n",
    "    return np.dot(a,b)/np.linalg.norm(a)/np.linalg.norm(b)"
   ]
  },
  {
   "cell_type": "code",
   "execution_count": 189,
   "metadata": {},
   "outputs": [
    {
     "data": {
      "text/plain": [
       "0.9746318461970762"
      ]
     },
     "execution_count": 189,
     "metadata": {},
     "output_type": "execute_result"
    }
   ],
   "source": [
    "t1=[1,2,3]\n",
    "t2=[4,5,6]\n",
    "distance(t1,t2)"
   ]
  },
  {
   "cell_type": "code",
   "execution_count": 139,
   "metadata": {},
   "outputs": [],
   "source": [
    "import copy"
   ]
  },
  {
   "cell_type": "code",
   "execution_count": 142,
   "metadata": {},
   "outputs": [],
   "source": [
    "def kmeans(X,k,limitation):\n",
    "    # 返回中心坐标\n",
    "    \n",
    "    # initialize\n",
    "    cent=X[0:k]\n",
    "    newcent=X[0:k]\n",
    "    clust=np.zeros(N)\n",
    "    newclust=np.zeros(N)\n",
    "    \n",
    "    RAM=np.random.permutation(N)\n",
    "    for i in range(k):\n",
    "        cent[i]=X[RAM[i]]\n",
    "    cnt=0\n",
    "    \n",
    "    # print(cent)\n",
    "    while cnt<limitation:\n",
    "        cnt+=1\n",
    "        \n",
    "        # renew cluster belonging\n",
    "        for i in range(N):\n",
    "            min_dis=0\n",
    "            for j in range(k):\n",
    "                if (distance(X[i],cent[j])-min_dis>0):\n",
    "                    min_dis=distance(X[i],cent[j])\n",
    "                    newclust[i]=j\n",
    "        \n",
    "        \n",
    "        # renew center\n",
    "        for j in range(k):\n",
    "            newcent[j]=[0,0,0]\n",
    "            c=0\n",
    "            for i in range(N):\n",
    "                if (newclust[i]==j):\n",
    "                    newcent[j]=newcent[j]+X[i]\n",
    "                    c+=1\n",
    "            if (c!=0):\n",
    "                newcent[j]=newcent[j]/c\n",
    "        # print(newcent)\n",
    "        \n",
    "        # test ultimation\n",
    "        flag=1\n",
    "        # print(\"old clust\")\n",
    "        # print(clust[0:50])\n",
    "        # print(\"new\")\n",
    "        # print(newclust[0:50])\n",
    "        for i in range(N):\n",
    "            if clust[i]!=newclust[i]:\n",
    "                flag=0\n",
    "                break\n",
    "        if (flag==1):\n",
    "            break\n",
    "        cent=copy.deepcopy(newcent)\n",
    "        clust=copy.deepcopy(newclust)\n",
    "    return cent\n"
   ]
  },
  {
   "cell_type": "code",
   "execution_count": 157,
   "metadata": {
    "scrolled": false
   },
   "outputs": [],
   "source": [
    "c1=kmeans(x,3,500)"
   ]
  },
  {
   "cell_type": "code",
   "execution_count": 170,
   "metadata": {},
   "outputs": [],
   "source": [
    "def kmean_label(X,k,center):\n",
    "    cnt=np.zeros(3*k).reshape(k,-1)\n",
    "    ans=np.zeros(k)\n",
    "    # 算出每个簇的选择（简单多数法）\n",
    "    for i in range(N):\n",
    "        min_dis=0\n",
    "        ind=-1\n",
    "        for j in range(k):\n",
    "            if (distance(X[i],center[j])-min_dis>0):\n",
    "                min_dis=distance(X[i],center[j])\n",
    "                ind=j\n",
    "        if(df['score1'][i]>df['score2'][i]):\n",
    "            cnt[ind][0]+=1\n",
    "        if(df['score1'][i]==df['score2'][i]):\n",
    "            cnt[ind][1]+=1\n",
    "        if(df['score1'][i]<df['score2'][i]):\n",
    "            cnt[ind][2]+=1\n",
    "        \n",
    "    # ans 1 表示主队赢， 2表示平，3 客队赢\n",
    "    for j in range(k):\n",
    "        if(cnt[j][0]>=cnt[j][1])and(cnt[j][0]>=cnt[j][2]):\n",
    "            ans[j]=1\n",
    "        if(cnt[j][1]>cnt[j][0])and(cnt[j][1]>=cnt[j][2]):\n",
    "            ans[j]=2\n",
    "        if(cnt[j][2]>cnt[j][0])and(cnt[j][2]>cnt[j][1]):\n",
    "            ans[j]=3\n",
    "    return ans"
   ]
  },
  {
   "cell_type": "code",
   "execution_count": 172,
   "metadata": {},
   "outputs": [],
   "source": [
    "lab1=kmean_label(x,3,c1)"
   ]
  },
  {
   "cell_type": "code",
   "execution_count": 192,
   "metadata": {},
   "outputs": [],
   "source": [
    "def kmean_test(DF,center,label,k):\n",
    "    cnt=0\n",
    "    sum=0\n",
    "    for i in range(DF.iloc[:,0].size):\n",
    "        min_dis=0\n",
    "        ind=-1\n",
    "        X=np.array([ df['主队指数'][i] , df['平指数'][i] , df['客队指数'][i] ])\n",
    "        for j in range(k):\n",
    "            if (distance(center[j],X)-min_dis>0):\n",
    "                min_dis=distance(X,center[j])\n",
    "                ind=j\n",
    "        if ind==1 and df['score1'][i]>df['score2'][i]:\n",
    "            cnt+=1\n",
    "            sum+=df['主队指数'][i]\n",
    "        if ind==2 and df['score1'][i]==df['score2'][i]:\n",
    "            cnt+=1\n",
    "            sum+=df['平指数'][i]\n",
    "        if ind==3 and df['score1'][i]<df['score2'][i]:\n",
    "            cnt+=1\n",
    "            sum+=df['客队指数'][i]\n",
    "    print(cnt)\n",
    "    print(sum)\n",
    "    return sum"
   ]
  },
  {
   "cell_type": "code",
   "execution_count": 193,
   "metadata": {},
   "outputs": [
    {
     "name": "stdout",
     "output_type": "stream",
     "text": [
      "350\n",
      "1330.2799999999988\n"
     ]
    },
    {
     "data": {
      "text/plain": [
       "1330.2799999999988"
      ]
     },
     "execution_count": 193,
     "metadata": {},
     "output_type": "execute_result"
    }
   ],
   "source": [
    "kmean_test(df,c1,lab1,3)"
   ]
  },
  {
   "cell_type": "code",
   "execution_count": null,
   "metadata": {},
   "outputs": [],
   "source": []
  }
 ],
 "metadata": {
  "kernelspec": {
   "display_name": "Python 3",
   "language": "python",
   "name": "python3"
  },
  "language_info": {
   "codemirror_mode": {
    "name": "ipython",
    "version": 3
   },
   "file_extension": ".py",
   "mimetype": "text/x-python",
   "name": "python",
   "nbconvert_exporter": "python",
   "pygments_lexer": "ipython3",
   "version": "3.8.5"
  }
 },
 "nbformat": 4,
 "nbformat_minor": 4
}
